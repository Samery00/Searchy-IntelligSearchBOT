{
  "nbformat": 4,
  "nbformat_minor": 0,
  "metadata": {
    "colab": {
      "name": "bert_search.ipynb",
      "provenance": [],
      "private_outputs": true
    },
    "kernelspec": {
      "name": "python3",
      "display_name": "Python 3"
    },
    "accelerator": "GPU"
  },
  "cells": [
    {
      "cell_type": "markdown",
      "metadata": {
        "id": "PrSKpBfJZGQ4",
        "colab_type": "text"
      },
      "source": [
        "**Download Bert pretrained model + install dependencies**"
      ]
    },
    {
      "cell_type": "code",
      "metadata": {
        "id": "Gnr9wVeMTQy_",
        "colab_type": "code",
        "colab": {}
      },
      "source": [
        "!wget https://storage.googleapis.com/bert_models/2018_11_23/multi_cased_L-12_H-768_A-12.zip\n",
        "!unzip multi_cased_L-12_H-768_A-12\n",
        "!pip install bert-serving-server --no-deps\n",
        "!pip install tensorflow==1.15"
      ],
      "execution_count": 0,
      "outputs": []
    },
    {
      "cell_type": "code",
      "metadata": {
        "id": "g-ePmlUhTIec",
        "colab_type": "code",
        "colab": {}
      },
      "source": [
        ""
      ],
      "execution_count": 0,
      "outputs": []
    },
    {
      "cell_type": "code",
      "metadata": {
        "id": "p_Dya1-NbxEf",
        "colab_type": "code",
        "colab": {}
      },
      "source": [
        "!pip install -U bert-serving-server[http]\n"
      ],
      "execution_count": 0,
      "outputs": []
    },
    {
      "cell_type": "code",
      "metadata": {
        "id": "P_iwxWttTgtV",
        "colab_type": "code",
        "colab": {}
      },
      "source": [
        "import numpy as np\n",
        "import pandas as pd\n",
        "import json\n",
        "from bert_serving.client import BertClient\n",
        "from termcolor import colored\n",
        "import io\n",
        "topk = 10\n",
        "\n"
      ],
      "execution_count": 0,
      "outputs": []
    },
    {
      "cell_type": "markdown",
      "metadata": {
        "id": "dognJOdiZoMw",
        "colab_type": "text"
      },
      "source": [
        "**Import Knowledge Dataset**"
      ]
    },
    {
      "cell_type": "code",
      "metadata": {
        "id": "ektuutn0TkjP",
        "colab_type": "code",
        "colab": {}
      },
      "source": [
        "from google.colab import files\n",
        "uploaded = files.upload()"
      ],
      "execution_count": 0,
      "outputs": []
    },
    {
      "cell_type": "code",
      "metadata": {
        "id": "YYfrGT8TeIui",
        "colab_type": "code",
        "colab": {}
      },
      "source": [
        "dataset = pd.read_json('websites.json')\n",
        "data = dataset[['title','contents','url']]\n",
        "data"
      ],
      "execution_count": 0,
      "outputs": []
    },
    {
      "cell_type": "code",
      "metadata": {
        "id": "zCY98eEgTol3",
        "colab_type": "code",
        "colab": {}
      },
      "source": [
        "# import os\n",
        "# os.system('cmd /k \"bert-serving-start -num_worker=1 -model_dir=\\content\\multi_cased_L-12_H-768_A-12\"')\n",
        "# !pip install -U bert-serving-server[http]\n",
        "# !pip install --upgrade ipykernel\n",
        "\n",
        "# !nohup bert-serving-start -cpu -model_dir=.\\multi_cased_L-12_H-768_A-12 >out.file2>&1&\n",
        "# port_num='3399'\n",
        "# get_ipython().system_raw(\n",
        "#     'bert-serving-start -model_dir=\\content\\multi_cased_L-12_H-768_A-12 -http_port ' + port_num + ' &'\n",
        "# )\n"
      ],
      "execution_count": 0,
      "outputs": []
    },
    {
      "cell_type": "code",
      "metadata": {
        "id": "8JosYOx1Ay2V",
        "colab_type": "code",
        "colab": {}
      },
      "source": [
        "# import json\n",
        "# import requests\n",
        "# def get_embeddings(texts):\n",
        "#     headers = {\n",
        "#         'content-type':'application/json'\n",
        "#     }\n",
        "#     data = {\n",
        "#         \"id\":123,\n",
        "#         \"texts\":texts,\n",
        "#         \"is_tokenized\": False\n",
        "#     }\n",
        "#     data = json.dumps(data)\n",
        "#     r = requests.post(\"http://localhost:\" + port_num + \"/encode\", data=data, headers=headers).json()\n",
        "#     return r['result']\n",
        "# import socket\n",
        "# socket.gethostbyname(socket.gethostname())"
      ],
      "execution_count": 0,
      "outputs": []
    },
    {
      "cell_type": "markdown",
      "metadata": {
        "id": "E8DjIlITZvF8",
        "colab_type": "text"
      },
      "source": [
        "**Using BertClient to extract text embeddings**"
      ]
    },
    {
      "cell_type": "code",
      "metadata": {
        "id": "wwqiGuys9hRn",
        "colab_type": "code",
        "colab": {}
      },
      "source": [
        "!nohup bert-serving-start -model_dir=./multi_cased_L-12_H-768_A-12 > out.file 2>&1 &\n",
        "\n",
        "from bert_serving.client import BertClient\n",
        "bc = BertClient(check_length=False)\n"
      ],
      "execution_count": 0,
      "outputs": []
    },
    {
      "cell_type": "code",
      "metadata": {
        "id": "Sv2AGbUniWEY",
        "colab_type": "code",
        "colab": {}
      },
      "source": [
        "print (bc.encode(list(data['contents'])))"
      ],
      "execution_count": 0,
      "outputs": []
    },
    {
      "cell_type": "markdown",
      "metadata": {
        "id": "1ikQ8bydaxWJ",
        "colab_type": "text"
      },
      "source": [
        "**Encoding our data**"
      ]
    },
    {
      "cell_type": "code",
      "metadata": {
        "id": "5qiIJPryTJ-F",
        "colab_type": "code",
        "colab": {}
      },
      "source": [
        "doc_vecs = bc.encode(list(data['contents']))"
      ],
      "execution_count": 0,
      "outputs": []
    },
    {
      "cell_type": "markdown",
      "metadata": {
        "id": "OLoTPnY0a3pe",
        "colab_type": "text"
      },
      "source": [
        "**Smiliraities**"
      ]
    },
    {
      "cell_type": "code",
      "metadata": {
        "id": "egtV9XKZkpQT",
        "colab_type": "code",
        "colab": {}
      },
      "source": [
        "# while True:\n",
        "query = input(colored('your Query: ', 'green'))\n",
        "query_vec = bc.encode([query])[0]\n",
        "# compute normalized dot product as score\n",
        "score = np.sum(query_vec * doc_vecs, axis=1) / np.linalg.norm(doc_vecs, axis=1)\n",
        "topk_idx = np.argsort(score)[::-1][:topk]\n",
        "print('top %d articles similar to \"%s\"' % (topk, colored(query, 'green')))\n",
        "for idx in topk_idx:\n",
        "    print('> %s\\t%s' % (colored('%.1f' % score[idx], 'cyan'), colored(data['title'][idx], 'yellow')))"
      ],
      "execution_count": 0,
      "outputs": []
    }
  ]
}